{
 "cells": [
  {
   "cell_type": "code",
   "execution_count": 1,
   "id": "d324611b",
   "metadata": {},
   "outputs": [],
   "source": [
    "import nltk\n",
    "from nltk.chat.util import Chat, reflections"
   ]
  },
  {
   "cell_type": "code",
   "execution_count": 2,
   "id": "aeda27a6",
   "metadata": {},
   "outputs": [],
   "source": [
    "reflections = {\n",
    "  \"i am\"       : \"you are\",\n",
    "  \"i was\"      : \"you were\",\n",
    "  \"i\"          : \"you\",\n",
    "  \"i'm\"        : \"you are\",\n",
    "  \"i'd\"        : \"you would\",\n",
    "  \"i've\"       : \"you have\",\n",
    "  \"i'll\"       : \"you will\",\n",
    "  \"my\"         : \"your\",\n",
    "  \"you are\"    : \"I am\",\n",
    "  \"you were\"   : \"I was\",\n",
    "  \"you've\"     : \"I have\",\n",
    "  \"you'll\"     : \"I will\",\n",
    "  \"your\"       : \"my\",\n",
    "  \"yours\"      : \"mine\",\n",
    "  \"you\"        : \"me\",\n",
    "  \"me\"         : \"you\"\n",
    "}"
   ]
  },
  {
   "cell_type": "code",
   "execution_count": null,
   "id": "325befc0",
   "metadata": {},
   "outputs": [],
   "source": [
    " pairs = [\n",
    "        [        r\"hi|hey|hello\",        [\"\\n Hello\", \"Hey there\"]    ], \n",
    "    \n",
    "        [        r\"what is your name?\",        [\"\\n I am a bot, you can call me alexa!\"]    ],\n",
    "    \n",
    "        [        r\"how are you|howareyou\",                [\"\\ni am fine ,what about you ?\"]                                     ],\n",
    "    \n",
    "        [        r\"my name is (.*)\",        [\"\\n Hello , How are you today ?\"]    ],\n",
    "    \n",
    "        [        r\"I am fine|(.*)fine\",        [\"\\n Great to hear that, How can I help you?\"]    ],\n",
    "    \n",
    "        [        r\"(.*)collage\"  ,[\"\\n what is your interests ?\"] ],\n",
    "    \n",
    "        [        r\"(.*)tecnology|(.*)programing\",    [\"\\ni recommended to you artificial inteleganc or computer scince. I can breif it to you.\"] ],        \n",
    "    \n",
    "        [        r\"ok breif it to me|ok|yes|let's go|i would like|ok berif \"  ,     [\"\\n alot of information about it from wikipedia \\ncomputer sciense : https://cutt.us/8NqC2  \\nArtificial Intelligence : https://cutt.us/dUPmp\"]],\n",
    "    \n",
    "        [        r\"i'm (.*) doing good\",        [\"\\nNice to hear that\",\"How can I help you?:)\",]    ],\n",
    "    \n",
    "        [        r\"(.*) understand|i don't understand\"  ,    [\"\\n?how can i help you\"]          ],\n",
    "    \n",
    "        [        r\"idon'tudderstand\"       ,  [\"\\n what do you want to understand\"]            ],\n",
    "    \n",
    "        [        r\"(.*)AI|(.)artificial inteleganc\",   [\" \\n alot of information about AI: \\n collegelist : https://cutt/2it2Xmmmm \\n infomation : https://cutt.us \\n\"]  ],\n",
    "    \n",
    "        [        r\"(.*)cs|().*computer sciense \",       [\" \\n alot of information about Cs: \\n collegelist : https://cutt/0mv4abbnbn \\n infomation : https://cutt.us/NZcWT \\n\"]   ],\n",
    "    \n",
    "        [        r\"sorry (.*)\",        [\"Its alright\",\"Its OK, never mind\",]    ],\n",
    "    \n",
    "\n",
    "        \n",
    "    ]"
   ]
  },
  {
   "cell_type": "code",
   "execution_count": null,
   "id": "94544362",
   "metadata": {},
   "outputs": [
    {
     "name": "stdout",
     "output_type": "stream",
     "text": [
      "Hi! I am a chatbot for your service\n",
      ">AI\n",
      " \n",
      " alot of information about AI: \n",
      " collegelist : https://cutt.us/2it2Xmmmm \n",
      " infomation : https://cutt.us \n",
      "\n"
     ]
    }
   ],
   "source": [
    "def chat():\n",
    "    print(\"Hi! I am a chatbot for your service\")\n",
    "    chat = Chat(pairs, reflections)\n",
    "    chat.converse()\n",
    "#initiate the conversation\n",
    "if __name__ == \"__main__\":\n",
    "    chat()\n",
    "    "
   ]
  },
  {
   "cell_type": "code",
   "execution_count": null,
   "id": "98d1b708",
   "metadata": {},
   "outputs": [],
   "source": []
  }
 ],
 "metadata": {
  "kernelspec": {
   "display_name": "Python 3",
   "language": "python",
   "name": "python3"
  },
  "language_info": {
   "codemirror_mode": {
    "name": "ipython",
    "version": 3
   },
   "file_extension": ".py",
   "mimetype": "text/x-python",
   "name": "python",
   "nbconvert_exporter": "python",
   "pygments_lexer": "ipython3",
   "version": "3.8.8"
  }
 },
 "nbformat": 4,
 "nbformat_minor": 5
}
